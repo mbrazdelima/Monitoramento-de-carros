{
 "cells": [
  {
   "cell_type": "markdown",
   "metadata": {},
   "source": [
    "# Monitoramento de carros\n",
    "------------------------"
   ]
  },
  {
   "cell_type": "markdown",
   "metadata": {},
   "source": [
    "## Importando a base e removendo \"na\" values"
   ]
  },
  {
   "cell_type": "code",
   "execution_count": 1,
   "metadata": {},
   "outputs": [],
   "source": [
    "import pandas as pd\n",
    "import numpy as np\n",
    "import matplotlib.pyplot as plt\n",
    "\n",
    "local = r'C:\\Users\\mbraz\\Downloads\\VM201_2019.xlsx'\n",
    "\n",
    "df = pd.read_excel(local)\n",
    "df['Inicio'].replace(\"?\", np.nan, inplace=True)\n",
    "df.dropna(subset=['Inicio'], axis=0, inplace=True)\n",
    "df.reset_index(drop=True, inplace=True)"
   ]
  },
  {
   "cell_type": "markdown",
   "metadata": {},
   "source": [
    "### Transformando horas no formato datatime (00:00) para formato decimal (7,50 == 07:30)"
   ]
  },
  {
   "cell_type": "code",
   "execution_count": 2,
   "metadata": {},
   "outputs": [],
   "source": [
    "def extract_hora(dataframe):\n",
    "    return [int(i[0:2]) for i in dataframe]\n",
    "\n",
    "def extract_minuto(dataframe):\n",
    "    return [int(i[3:])/60 for i in dataframe]\n",
    "\n",
    "ListaInicioHora = extract_hora(df['Inicio'])\n",
    "ListaInicioMinuto = extract_minuto(df['Inicio'])\n",
    "ListaFinalHora = extract_hora(df['Final'])\n",
    "ListaFinalMinuto = extract_minuto(df['Final'])\n",
    "\n",
    "def hora_total(listaHora, listaMinuto):\n",
    "    return pd.DataFrame(listaHora) + pd.DataFrame(listaMinuto)\n",
    "\n",
    "HoraInicio = hora_total(ListaInicioHora, ListaInicioMinuto)\n",
    "HoraFinal = hora_total(ListaFinalHora, ListaFinalMinuto)\n",
    "\n",
    "df['HoraInicio'] = HoraInicio\n",
    "df['HoraFinal'] = HoraFinal"
   ]
  },
  {
   "cell_type": "markdown",
   "metadata": {},
   "source": [
    "### Retirando dias com jornada de trabalho menor que 4h"
   ]
  },
  {
   "cell_type": "code",
   "execution_count": 3,
   "metadata": {},
   "outputs": [],
   "source": [
    "meses = ['Janeiro', 'Fevereiro', 'Março', 'Abril', 'Maio', 'Junho', 'Julho', 'Agosto', 'Setembro', 'Outubro']\n",
    "\n",
    "df['Mês'] = pd.Categorical(df['Mês'], categories=meses, ordered=True)\n",
    "df.sort_values('Mês', inplace=True)\n",
    "\n",
    "dropRows = list()\n",
    "for i in range(0, len(df)):\n",
    "    horas = df['HoraFinal'][i] - df['HoraInicio'][i] \n",
    "    if horas <= 4:\n",
    "        dropRows.append(i)\n",
    "\n",
    "df.drop(dropRows, inplace=True)\n",
    "df.reset_index(inplace=True, drop=True)"
   ]
  },
  {
   "cell_type": "markdown",
   "metadata": {},
   "source": [
    "### Plotando gráfico"
   ]
  },
  {
   "cell_type": "code",
   "execution_count": 4,
   "metadata": {},
   "outputs": [
    {
     "data": {
      "image/png": "[encoded data removed]",
      "text/plain": [
       "<Figure size 432x288 with 1 Axes>"
      ]
     },
     "metadata": {
      "needs_background": "light"
     },
     "output_type": "display_data"
    }
   ],
   "source": [
    "yInicio = df['HoraInicio']\n",
    "yFinal = df['HoraFinal']\n",
    "x = df['Mês']\n",
    "plt.scatter(x, yInicio, color='g', s=50, alpha=0.4)\n",
    "plt.scatter(x, yFinal, color='r', s=50, alpha=0.4)\n",
    "plt.xticks(rotation=45)\n",
    "plt.yticks(range(0, 25))\n",
    "plt.ylim(0, 24)\n",
    "plt.xlabel('Mês')\n",
    "plt.ylabel('Hora (h)')\n",
    "plt.title(f'Carro 1')\n",
    "plt.axhline(y=17, color='black')\n",
    "plt.axhline(y=8, color='black')\n",
    "plt.show()"
   ]
  },
  {
   "cell_type": "markdown",
   "metadata": {},
   "source": [
    "### Funções para cálculos"
   ]
  },
  {
   "cell_type": "code",
   "execution_count": 26,
   "metadata": {
    "scrolled": true
   },
   "outputs": [],
   "source": [
    "import operator\n",
    "\n",
    "def comparador(entrada, operador, referencia):\n",
    "    ops = {'>': operator.gt,\n",
    "           '<': operator.lt,\n",
    "           '>=': operator.ge,\n",
    "           '<=': operator.le,\n",
    "           '=': operator.eq}\n",
    "    return ops[operador](entrada, referencia)\n",
    "\n",
    "\n",
    "def porcentagemMensal(dataFrame, coluna, condicao, limite): \n",
    "    '''\n",
    "    Opções para o parâmetro condicao -> \"=\", \">\", \">=\", \"<=\", \"<\" \n",
    "    Parâmetro limite -> valor numérico para comparar \n",
    "    '''\n",
    "    porcentagemList = []\n",
    "    for mes in meses:\n",
    "        count = 0\n",
    "        porcentagem = 0\n",
    "        dfMes = dataFrame.loc[dataFrame.Mês == mes]\n",
    "        dfMes.reset_index(inplace=True, drop=True)\n",
    "        for i in range(0, len(dfMes)):\n",
    "            if comparador(dfMes[coluna][i], condicao, limite) == True:\n",
    "                count += 1\n",
    "        if count == 0:\n",
    "            porcentagemList.append(0)\n",
    "        else:\n",
    "            porcentagem = int((count/dfMes.shape[0])*100)\n",
    "            porcentagemList.append(porcentagem)\n",
    "    return porcentagemList\n",
    "\n",
    "\n",
    "def mediaMensal(dataFrame, coluna):\n",
    "    listaMedia = []\n",
    "    for mes in meses:\n",
    "        dfMes = dataFrame.loc[dataFrame.Mês == mes]\n",
    "        dfMes.reset_index(inplace=True, drop=True)\n",
    "        listaMedia.append(round(dfMes[coluna].mean(), 1))\n",
    "    return listaMedia\n",
    "\n",
    "\n",
    "def mediaDiferenca(dataFrame, coluna1, coluna2):\n",
    "    '''\n",
    "    Operação efetuada -> coluna1 - coluna2\n",
    "    '''\n",
    "    mediaJornada = []\n",
    "    for mes in meses:\n",
    "        dfMes = dataFrame.loc[dataFrame.Mês == mes]\n",
    "        dfMes.reset_index(inplace=True, drop=True)\n",
    "        jornadaMensal = []\n",
    "        for i in range(0, len(dfMes)):\n",
    "            jornada = dfMes[coluna1][i] - dfMes[coluna2][i]     \n",
    "            jornadaMensal.append(jornada)                 \n",
    "        mediaJornada.append(round(np.mean(jornadaMensal),1))\n",
    "    return mediaJornada\n",
    "\n",
    "\n",
    "def decimalToTime(lista):\n",
    "    for i, valor in enumerate(lista):\n",
    "        try:\n",
    "            if valor >= 10:\n",
    "                if  int((valor%1)*60) < 10:\n",
    "                    lista[i] = f'{int(valor)}:0{int((valor%1)*60)}'\n",
    "                else:\n",
    "                    lista[i] = f'{int(valor)}:{int((valor%1)*60)}'\n",
    "            elif int((valor%1)*60) < 10:\n",
    "                lista[i] = f'0{int(valor)}:0{int((valor%1)*60)}'\n",
    "            else:\n",
    "                lista[i] = f'0{int(valor)}:{int((valor%1)*60)}'\n",
    "        except:\n",
    "            lista[i] = '0'\n",
    "    return lista"
   ]
  },
  {
   "cell_type": "markdown",
   "metadata": {},
   "source": [
    "### Tabela de índices"
   ]
  },
  {
   "cell_type": "code",
   "execution_count": 225,
   "metadata": {},
   "outputs": [
    {
     "name": "stderr",
     "output_type": "stream",
     "text": [
      "C:\\Users\\mbraz\\AppData\\Roaming\\Python\\Python37\\site-packages\\ipykernel_launcher.py:9: RuntimeWarning: invalid value encountered in double_scalars\n",
      "  if __name__ == '__main__':\n"
     ]
    }
   ],
   "source": [
    "tabela = pd.DataFrame()\n",
    "tabela['Meses'] = meses\n",
    "\n",
    "tabela['Inicio depois das 8h (%)'] = porcentagemMensal(df, 'HoraInicio', '>', 8)\n",
    "tabela['Término antes das 17h (%)'] = porcentagemMensal(df, 'HoraFinal', '<', 17)\n",
    "tabela['Horário médio de inicio (h)'] = decimalToTime(mediaMensal(df, 'HoraInicio'))\n",
    "tabela['Horário médio de término (h)'] = decimalToTime(mediaMensal(df, 'HoraFinal'))\n",
    "tabela['Tempo de trabalho médio (h/dia)'] = decimalToTime(mediaDiferenca(df, 'HoraFinal', 'HoraInicio'))"
   ]
  },
  {
   "cell_type": "code",
   "execution_count": 226,
   "metadata": {},
   "outputs": [
    {
     "data": {
      "text/html": [
       "<div>\n",
       "<style scoped>\n",
       "    .dataframe tbody tr th:only-of-type {\n",
       "        vertical-align: middle;\n",
       "    }\n",
       "\n",
       "    .dataframe tbody tr th {\n",
       "        vertical-align: top;\n",
       "    }\n",
       "\n",
       "    .dataframe thead th {\n",
       "        text-align: right;\n",
       "    }\n",
       "</style>\n",
       "<table border=\"1\" class=\"dataframe\">\n",
       "  <thead>\n",
       "    <tr style=\"text-align: right;\">\n",
       "      <th></th>\n",
       "      <th>Meses</th>\n",
       "      <th>Inicio depois das 8h (%)</th>\n",
       "      <th>Término antes das 17h (%)</th>\n",
       "      <th>Horário médio de inicio (h)</th>\n",
       "      <th>Horário médio de término (h)</th>\n",
       "      <th>Tempo de trabalho médio (h/dia)</th>\n",
       "    </tr>\n",
       "  </thead>\n",
       "  <tbody>\n",
       "    <tr>\n",
       "      <td>0</td>\n",
       "      <td>Janeiro</td>\n",
       "      <td>26</td>\n",
       "      <td>13</td>\n",
       "      <td>07:42</td>\n",
       "      <td>17:53</td>\n",
       "      <td>10:11</td>\n",
       "    </tr>\n",
       "    <tr>\n",
       "      <td>1</td>\n",
       "      <td>Fevereiro</td>\n",
       "      <td>15</td>\n",
       "      <td>11</td>\n",
       "      <td>07:30</td>\n",
       "      <td>18:23</td>\n",
       "      <td>10:54</td>\n",
       "    </tr>\n",
       "    <tr>\n",
       "      <td>2</td>\n",
       "      <td>Março</td>\n",
       "      <td>0</td>\n",
       "      <td>0</td>\n",
       "      <td>0</td>\n",
       "      <td>0</td>\n",
       "      <td>0</td>\n",
       "    </tr>\n",
       "    <tr>\n",
       "      <td>3</td>\n",
       "      <td>Abril</td>\n",
       "      <td>27</td>\n",
       "      <td>13</td>\n",
       "      <td>07:54</td>\n",
       "      <td>17:48</td>\n",
       "      <td>09:48</td>\n",
       "    </tr>\n",
       "    <tr>\n",
       "      <td>4</td>\n",
       "      <td>Maio</td>\n",
       "      <td>28</td>\n",
       "      <td>14</td>\n",
       "      <td>07:42</td>\n",
       "      <td>17:48</td>\n",
       "      <td>10:11</td>\n",
       "    </tr>\n",
       "    <tr>\n",
       "      <td>5</td>\n",
       "      <td>Junho</td>\n",
       "      <td>29</td>\n",
       "      <td>12</td>\n",
       "      <td>08:11</td>\n",
       "      <td>18:23</td>\n",
       "      <td>10:11</td>\n",
       "    </tr>\n",
       "    <tr>\n",
       "      <td>6</td>\n",
       "      <td>Julho</td>\n",
       "      <td>22</td>\n",
       "      <td>7</td>\n",
       "      <td>07:42</td>\n",
       "      <td>18:00</td>\n",
       "      <td>10:11</td>\n",
       "    </tr>\n",
       "    <tr>\n",
       "      <td>7</td>\n",
       "      <td>Agosto</td>\n",
       "      <td>69</td>\n",
       "      <td>17</td>\n",
       "      <td>08:35</td>\n",
       "      <td>17:41</td>\n",
       "      <td>09:05</td>\n",
       "    </tr>\n",
       "    <tr>\n",
       "      <td>8</td>\n",
       "      <td>Setembro</td>\n",
       "      <td>18</td>\n",
       "      <td>9</td>\n",
       "      <td>07:54</td>\n",
       "      <td>18:30</td>\n",
       "      <td>10:35</td>\n",
       "    </tr>\n",
       "    <tr>\n",
       "      <td>9</td>\n",
       "      <td>Outubro</td>\n",
       "      <td>100</td>\n",
       "      <td>100</td>\n",
       "      <td>09:18</td>\n",
       "      <td>15:30</td>\n",
       "      <td>06:12</td>\n",
       "    </tr>\n",
       "  </tbody>\n",
       "</table>\n",
       "</div>"
      ],
      "text/plain": [
       "       Meses  Inicio depois das 8h (%)  Término antes das 17h (%)  \\\n",
       "0    Janeiro                        26                         13   \n",
       "1  Fevereiro                        15                         11   \n",
       "2      Março                         0                          0   \n",
       "3      Abril                        27                         13   \n",
       "4       Maio                        28                         14   \n",
       "5      Junho                        29                         12   \n",
       "6      Julho                        22                          7   \n",
       "7     Agosto                        69                         17   \n",
       "8   Setembro                        18                          9   \n",
       "9    Outubro                       100                        100   \n",
       "\n",
       "  Horário médio de inicio (h) Horário médio de término (h)  \\\n",
       "0                       07:42                        17:53   \n",
       "1                       07:30                        18:23   \n",
       "2                           0                            0   \n",
       "3                       07:54                        17:48   \n",
       "4                       07:42                        17:48   \n",
       "5                       08:11                        18:23   \n",
       "6                       07:42                        18:00   \n",
       "7                       08:35                        17:41   \n",
       "8                       07:54                        18:30   \n",
       "9                       09:18                        15:30   \n",
       "\n",
       "  Tempo de trabalho médio (h/dia)  \n",
       "0                           10:11  \n",
       "1                           10:54  \n",
       "2                               0  \n",
       "3                           09:48  \n",
       "4                           10:11  \n",
       "5                           10:11  \n",
       "6                           10:11  \n",
       "7                           09:05  \n",
       "8                           10:35  \n",
       "9                           06:12  "
      ]
     },
     "execution_count": 226,
     "metadata": {},
     "output_type": "execute_result"
    }
   ],
   "source": [
    "tabela"
   ]
  }
 ],
 "metadata": {
  "kernelspec": {
   "display_name": "Python 3",
   "language": "python",
   "name": "python3"
  },
  "language_info": {
   "codemirror_mode": {
    "name": "ipython",
    "version": 3
   },
   "file_extension": ".py",
   "mimetype": "text/x-python",
   "name": "python",
   "nbconvert_exporter": "python",
   "pygments_lexer": "ipython3",
   "version": "3.7.4"
  }
 },
 "nbformat": 4,
 "nbformat_minor": 4
}
